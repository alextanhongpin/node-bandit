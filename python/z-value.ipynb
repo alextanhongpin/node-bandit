{
 "cells": [
  {
   "cell_type": "code",
   "execution_count": 1,
   "metadata": {
    "collapsed": true
   },
   "outputs": [],
   "source": [
    "import math\n",
    "import random\n",
    "import numpy as np\n",
    "import matplotlib.pyplot as plt"
   ]
  },
  {
   "cell_type": "code",
   "execution_count": 4,
   "metadata": {
    "collapsed": false
   },
   "outputs": [
    {
     "data": {
      "text/plain": [
       "1.8272652143588817"
      ]
     },
     "execution_count": 4,
     "metadata": {},
     "output_type": "execute_result"
    }
   ],
   "source": [
    "# Assume 5000 samples per group\n",
    "n_experiment = 10000\n",
    "n_control = 10000\n",
    "\n",
    "p_experiment = 0.002\n",
    "p_control = 0.001\n",
    "\n",
    "se_experiment_sq = p_experiment * (1 - p_experiment) / n_experiment\n",
    "se_control_sq = p_control * (1 - p_control) / n_control\n",
    "\n",
    "Z = (p_experiment - p_control) / math.sqrt(se_experiment_sq + se_control_sq)\n",
    "Z"
   ]
  }
 ],
 "metadata": {
  "kernelspec": {
   "display_name": "Python 3",
   "language": "python",
   "name": "python3"
  },
  "language_info": {
   "codemirror_mode": {
    "name": "ipython",
    "version": 3
   },
   "file_extension": ".py",
   "mimetype": "text/x-python",
   "name": "python",
   "nbconvert_exporter": "python",
   "pygments_lexer": "ipython3",
   "version": "3.6.4"
  }
 },
 "nbformat": 4,
 "nbformat_minor": 2
}
